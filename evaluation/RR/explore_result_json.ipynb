{
 "cells": [
  {
   "cell_type": "code",
   "execution_count": null,
   "metadata": {},
   "outputs": [
    {
     "name": "stdout",
     "output_type": "stream",
     "text": [
      "Processing difficulty hard seed 777\n",
      "Loaded test dataset with 2892 entries\n",
      "Found 2892 matches between results and test dataset\n",
      "Saved updated results to /home/thorben/code/mit/Retrieval-Retro/results/hard_naive/RR_hard_best_results_777_naive_updated_all.json\n",
      "Processing difficulty hard seed 888\n",
      "Loaded test dataset with 2892 entries\n",
      "Found 2892 matches between results and test dataset\n",
      "Saved updated results to /home/thorben/code/mit/Retrieval-Retro/results/hard_naive/RR_hard_best_results_888_naive_updated_all.json\n",
      "Processing difficulty hard seed 999\n",
      "Loaded test dataset with 2892 entries\n",
      "Found 2892 matches between results and test dataset\n",
      "Saved updated results to /home/thorben/code/mit/Retrieval-Retro/results/hard_naive/RR_hard_best_results_999_naive_updated_all.json\n",
      "Processing difficulty hard seed 42\n",
      "Loaded test dataset with 2892 entries\n",
      "Found 2892 matches between results and test dataset\n",
      "Saved updated results to /home/thorben/code/mit/Retrieval-Retro/results/hard_naive/RR_hard_best_results_42_naive_updated_all.json\n",
      "Processing difficulty hard seed 69\n",
      "Loaded test dataset with 2892 entries\n",
      "Found 2892 matches between results and test dataset\n",
      "Saved updated results to /home/thorben/code/mit/Retrieval-Retro/results/hard_naive/RR_hard_best_results_69_naive_updated_all.json\n"
     ]
    }
   ],
   "source": [
    "import pandas as pd\n",
    "import json\n",
    "for difficulty in ['hard']:\n",
    "    for seed in [777, 888, 999, 42, 69]:\n",
    "        print(f\"Processing difficulty {difficulty} seed {seed}\")\n",
    "\n",
    "        # Load the results JSON file\n",
    "        with open(f'/home/thorben/code/mit/Retrieval-Retro/results/{difficulty}_naive/RR_{difficulty}_best_results_{seed}_naive.json', 'r') as f:\n",
    "            results = json.load(f)\n",
    "\n",
    "        # Load test dataset\n",
    "        if difficulty == 'hard':\n",
    "            test_df = pd.read_csv(f'/home/thorben/code/mit/PrecursorRanker/data/dataset/dataset_w_candidates_w_val_unique_systems/test.csv')\n",
    "        elif difficulty == 'medium':\n",
    "            test_df = pd.read_csv(f'/home/thorben/code/mit/PrecursorRanker/data/dataset/dataset_w_candidates_w_val_new/test.csv')\n",
    "        elif difficulty == 'easy':\n",
    "            test_df = pd.read_csv(f'/home/thorben/code/mit/PrecursorRanker/data/dataset/dataset_unfiltered/test.csv')\n",
    "        print(f\"Loaded test dataset with {len(test_df)} entries\")\n",
    "\n",
    "        matches = 0\n",
    "        # Iterate through each result dictionary\n",
    "        for result_dic in results:\n",
    "            # Get the target formula (key of the dictionary)\n",
    "            target_formula = list(result_dic.keys())[0]\n",
    "            \n",
    "            # Find first matching row in test_df where target_formula matches\n",
    "            matching_row = test_df[test_df['target_formula'] == target_formula].head(1)\n",
    "            \n",
    "            if not matching_row.empty:\n",
    "                # Update the ground truth precursors in results with test dataset precursors\n",
    "                result_dic[target_formula]['gt_precursors'] = eval(matching_row.iloc[0]['precursor_formulas'])\n",
    "                result_dic[target_formula]['sorted_candidates'] = result_dic[target_formula]['sorted_candidates']\n",
    "                result_dic[target_formula]['sorted_probabilities'] = result_dic[target_formula]['sorted_probabilities']\n",
    "                matches += 1\n",
    "                \n",
    "                # Delete just the matched row by index to avoid removing other rows with same formula\n",
    "                test_df = test_df.drop(matching_row.index[0])\n",
    "            else:\n",
    "                print(f\"No matching row found for target formula: {target_formula}\")\n",
    "\n",
    "        print(f\"Found {matches} matches between results and test dataset\")\n",
    "        print(f\"Saving {len(results)} results to {output_path}\")\n",
    "\n",
    "        # Save updated results to a new JSON file\n",
    "        output_path = f'/home/thorben/code/mit/Retrieval-Retro/results/{difficulty}_naive/RR_{difficulty}_best_results_{seed}_naive_updated_all.json'\n",
    "        with open(output_path, 'w') as f:\n",
    "            json.dump(results, f, indent=4)\n",
    "        print(f\"Saved updated results to {output_path}\")"
   ]
  },
  {
   "cell_type": "code",
   "execution_count": 6,
   "metadata": {},
   "outputs": [
    {
     "name": "stdout",
     "output_type": "stream",
     "text": [
      "2892\n"
     ]
    }
   ],
   "source": [
    "difficulty = 'hard'\n",
    "seed = 777\n",
    "with open(f'/home/thorben/code/mit/Retrieval-Retro/results/{difficulty}/RR_{difficulty}_best_results_{seed}.json', 'r') as f:\n",
    "    results = json.load(f)\n",
    "\n",
    "print(len(results))"
   ]
  },
  {
   "cell_type": "code",
   "execution_count": 3,
   "metadata": {},
   "outputs": [
    {
     "name": "stdout",
     "output_type": "stream",
     "text": [
      "2892\n",
      "Ag2Mo2O7\n",
      "(['Ag2O1', 'Mo1O3'], 0.10880940648952464)\n",
      "['Mo1O3', 'Ag2O1', 'Cu1O1', 'Ag1', 'Mo1O2', 'Ag2C1O3', 'V2O5', 'Nb2O5', 'Cu2O1', 'V1H4N1O3', 'Mo7H24N6O24', 'Na2Mo1O4', 'Cr2O3', 'Cd1O1', 'Eu1', 'Cu1H6C4O4', 'Tl2Te1O3', 'Mg1C1O3', 'Li2C1O3', 'Pt1', 'W1O2', 'Ba1C1O3', 'Ba2Gd1Cu3O7', 'Ru2Pb2O7', 'Tl2Mo1O3', 'Cd1I2', 'Bi2O3', 'Ba1O2', 'Na2O2', 'Co2O3']\n",
      "[0.9137240648269653, 0.11908344179391861, 0.01858048141002655, 0.017488865181803703, 0.010582169517874718, 0.007086657453328371, 0.005258477292954922, 0.002950200578197837, 0.0018961448222398758, 0.0015177245950326324, 0.001112943864427507, 0.0007537919445894659, 0.0006125528598204255, 0.0005451378528960049, 0.0005119113484397531, 0.0003903784672729671, 0.00028587476117536426, 0.00017690547974780202, 0.00015270191943272948, 0.00014820614887867123, 0.00011042232654290274, 0.0001076250773621723, 0.00010679525439627469, 8.640846499474719e-05, 6.941802712390199e-05, 6.642076914431527e-05, 6.197474431246519e-05, 5.835099727846682e-05, 5.0464073865441605e-05, 5.039102688897401e-05]\n",
      "1\n",
      "Ag2WO4\n",
      "(['W1O3', 'Ag2C1O3'], 0.006544162643643686)\n",
      "['W1O3', 'Ag2O1', 'Ag2C1O3', 'Ag1N1O3', 'Cu1O1', 'W1O2', 'Nb2O5', 'In2O3', 'V2O5', 'Mg1W1O4', 'Ag1', 'Ba1C1O3', 'Gd2O3', 'Mo1O3', 'Mg1C1O3', 'Li2C1O3', 'H2W1O4', 'Co1C1O3', 'Pb3O4', 'Cd1W1O4', 'Mg1O1', 'Nd2W1O6', 'Cu2O1', 'Pb1O1', 'Ba2Gd1Cu3O7', 'Ti1O2', 'Te1O2', 'Cs1N1O3', 'Bi2O3', 'Cd1In2Te4']\n",
      "[0.9983304142951965, 0.041123367846012115, 0.006555106956511736, 0.0014277588343247771, 0.0008068502647802234, 0.0005276813171803951, 0.00040022822213359177, 0.00023137869720812887, 0.0002145178004866466, 0.00012992894335184246, 0.00010506725811865181, 8.402119419770315e-05, 7.24134806660004e-05, 6.633190059801564e-05, 4.869433178100735e-05, 4.8408892325824127e-05, 4.445348531589843e-05, 2.7678437618305907e-05, 2.7351861717761494e-05, 2.6457544663571753e-05, 2.5168037609546445e-05, 1.8265389371663332e-05, 1.520987007097574e-05, 1.3856400983058847e-05, 9.895549737848341e-06, 9.645059435570147e-06, 4.890400759904878e-06, 4.703618287749123e-06, 4.344552962720627e-06, 4.204553533782018e-06]\n",
      "2\n",
      "Ag3Ge17Te68I3\n",
      "(['Te1', 'Ge1', 'Ag1I1'], 0)\n",
      "['Ge1O2', 'Te1O2', 'Ge1', 'Se1', 'Cu1I1', 'V2O5', 'P1', 'Th1O2', 'Pb3Br2O2', 'Pb1', 'Pb1Cl2', 'Gd1', 'Te1', 'In1Cl3', 'Co1O1', 'Gd2Te3', 'Gd3Ni1', 'Co1C1O3', 'Se1O2', 'Zn1S1', 'Eu1Se1', 'Ga2Te3', 'Cu1Cl2', 'H5N1F2', 'Ni2O3', 'P1H3O4', 'La1', 'Ce1', 'Ni1Sb1', 'Hg1']\n",
      "[0.9875221848487854, 0.15131354331970215, 0.05813434347510338, 0.009503488428890705, 0.0010429343674331903, 0.0009206003742292523, 0.0006117902812547982, 0.00045665749348700047, 0.000258232350461185, 0.00017920626851264387, 0.00012856416287831962, 0.00012315288768149912, 0.00010548376303631812, 9.967848745873198e-05, 9.381797281093895e-05, 9.033524111146107e-05, 5.761504507972859e-05, 3.364555959706195e-05, 2.7425152438809164e-05, 1.5548077499261126e-05, 1.1421168892411515e-05, 8.623254871054087e-06, 7.945399374875706e-06, 6.176598162710434e-06, 5.782343578175642e-06, 5.757033250120003e-06, 5.316426722856704e-06, 4.840783731197007e-06, 4.538074335869169e-06, 3.964966253988678e-06]\n",
      "None\n",
      "AgBiI4\n",
      "(['I1', 'Bi1', 'Ag1I1'], 0)\n",
      "['Ag2S1', 'V2O5', 'Ag2O1', 'W1O2', 'Ag2C1O3', 'Bi2S3', 'Ag1I1', 'Tl2Te1O3', 'Si1S2', 'Ag1', 'Pb1Se1', 'Bi1Br1O1', 'Sn1S1', 'Ag3Sb1S3', 'Pb1Cl2', 'Ba0.25Cu1Bi0.75Se1O1', 'Yb1', 'Ag1N1O3', 'Mg1C1O3', 'Ag1Br1', 'Cs2Se3', 'Ge6Rh7', 'Bi2Se3', 'Cu1Bi1Se1O1', 'Bi1I3', 'Rb1I1', 'Cd1In2Te4', 'U1', 'Ag2Te1O3', 'Eu1S1']\n",
      "[0.7761881351470947, 0.48950979113578796, 0.2469952255487442, 0.0005189545336179435, 0.0004899061750620604, 0.0004163952253293246, 0.0003275677445344627, 0.00015433394582942128, 0.00013559238868765533, 8.354191959369928e-05, 3.727330476976931e-05, 1.691812212811783e-05, 1.1488504242151976e-05, 1.1109819752164185e-05, 9.665878678788431e-06, 9.648978448240086e-06, 8.498166607751045e-06, 8.403664651268627e-06, 8.236243957071565e-06, 8.081750820565503e-06, 7.591569556097966e-06, 6.4361402110080235e-06, 5.503536613105098e-06, 4.87376519231475e-06, 4.233183972246479e-06, 3.7590139072563034e-06, 3.2453231142426375e-06, 2.9752834507235093e-06, 2.626611149025848e-06, 2.221324848505901e-06]\n",
      "None\n",
      "Al(CrB)2\n",
      "(['Cr1B1', 'Al1'], 0)\n",
      "['Cr2O3', 'B1H1O2', 'Mg1', 'Al4C3', 'B1H310O3', 'Y1B4', 'Al2O3', 'Cr1O3', 'B1', 'La1Al0.1Fe0.9O3', 'Al1', 'Li1H2N1', 'B1H311O3', 'Gd1Ni1', 'Al1H3', 'Ni2P1', 'Y1', 'K1P1H2O4', 'Cs2S3', 'Cu1H6C4O4', 'P2O5', 'Al1F3', 'K4P2O7', 'Rb2Li2B1H3C2O9', 'Li1B1H4', 'Ti1C1', 'Ho2O3', 'Cs2O1', 'Tl1S1', 'Mo1Br2']\n",
      "[0.10298649966716766, 0.08540798723697662, 0.03899678587913513, 0.0046547213569283485, 0.0023749289102852345, 0.0011403700336813927, 0.0010895078303292394, 0.0010214896174147725, 0.0008508307510055602, 0.0007825803477317095, 0.0005699103930965066, 0.0005304612568579614, 0.0005078100948594511, 0.00040746512240730226, 0.0003711155732162297, 0.00019004076602868736, 0.00016101723304018378, 0.00015701618394814432, 0.00013498800399247557, 0.0001226889726240188, 0.0001054718013620004, 8.718740718904883e-05, 8.239754970418289e-05, 7.189131429186091e-05, 6.142789789009839e-05, 5.5960168538149446e-05, 5.0662103603826836e-05, 4.736752816825174e-05, 3.9991431549424306e-05, 3.778237442020327e-05]\n",
      "None\n",
      "Al(FeB)2\n",
      "(['Fe1B1', 'Al1'], 0)\n",
      "['Fe1', 'Fe2O3', 'B2O3', 'Al1', 'Mg1', 'Nb1B1', 'Ni2P1', 'Al2O3', 'La1Al0.1Fe0.9O3', 'Fe1Si1', 'B1', 'Ni1', 'Ca1As1', 'Fe2B1', 'Al1F3', 'Si1', 'Fe1F3', 'B1H311O3', 'Fe2Mo3O12', 'Tl1F1', 'Fe1F2', 'B1Rh1', 'Fe1S1', 'Rh1', 'Y1B4', 'B1H3O3', 'Os1O2', 'Ca1', 'Ba1', 'Ir1']\n",
      "[0.052853457629680634, 0.023912079632282257, 0.018594615161418915, 0.003262869780883193, 0.0023142232093960047, 0.0011877771466970444, 0.0005299882031977177, 0.0005178513820283115, 0.0005059111281298101, 0.0002963733277283609, 0.00026004682877101004, 0.00020792473515029997, 0.00018878215632867068, 0.0001814042334444821, 0.00017315785225946456, 0.0001625146542210132, 0.00015548178635071963, 0.00011942660057684407, 0.00011400719813536853, 4.686341344495304e-05, 2.848605981853325e-05, 2.708797183004208e-05, 2.5498191462247632e-05, 1.5762676412123255e-05, 1.5490591977140866e-05, 1.3863301319361199e-05, 1.087193868443137e-05, 1.0220009244221728e-05, 9.81413268164033e-06, 7.444204584317049e-06]\n",
      "None\n",
      "Al0.007Zn0.993O1\n",
      "(['Al2O3', 'Zn1O1'], 0.9925522291229001)\n",
      "['Zn1O1', 'Al2O3', 'Mg1O1', 'Ga2O3', 'Al1H3O3', 'B1H310O3', 'H2W1O4', 'Sr1Al2', 'Cd1H6C4O4', 'Mo1O3', 'Sr1Zn2', 'Cd1O1', 'Ni1H6C4O4', 'Li2C1O3', 'Ni2O3', 'Mn1O1', 'Mg1C1O3', 'Co3O4', 'Li2O3', 'Ba1H2', 'Sr1C1O3', 'Co2C3O9', 'Ba1S1O4', 'Ge1O2', 'Lu1V1O4', 'V2O3', 'Zn1H6C4O4', 'P2O5', 'Ni1O1', 'B1H311O3']\n",
      "[0.9997676014900208, 0.9927829504013062, 0.012188109569251537, 0.008189528249204159, 0.0036243638023734093, 0.0006288196891546249, 0.0006026734481565654, 0.00037534823059104383, 0.00026213357341475785, 0.00011584066669456661, 0.00011166319745825604, 9.677318303147331e-05, 5.493697972269729e-05, 4.713348607765511e-05, 3.646514596766792e-05, 2.5412591639906168e-05, 2.5056107915588655e-05, 1.3796615348837804e-05, 1.0875019142986275e-05, 1.0067506991617847e-05, 9.263208994525485e-06, 8.88599424797576e-06, 6.757949449820444e-06, 6.3320017034129705e-06, 6.1989812820684165e-06, 6.049091552995378e-06, 5.9852691265405156e-06, 5.838743163621984e-06, 5.074393357062945e-06, 4.248362074577017e-06]\n",
      "1\n",
      "Al0.01Zn0.98Sn0.01O1\n",
      "(['Sn1O2', 'Al2O3', 'Zn1O1'], 2.1656472826248705e-06)\n",
      "['Zn1O1', 'Mg1O1', 'Al2O3', 'Cu1O1', 'Li2C1O3', 'P2O5', 'Co3O4', 'Ga2O3', 'Ni1O1', 'Y2O3', 'Ni1H6C4O4', 'Al1H3O3', 'Co1O1', 'Sr1Al2', 'Ge1O2', 'B1H310O3', 'Ti1O2', 'H2W1O4', 'Al1H5C2O4', 'Cs2O1', 'Al1H1O1', 'P1H9N2O4', 'Er2O3', 'Sn1O2', 'Ge1O4', 'Mn1O2', 'Ni2O3', 'Zn1S1', 'Sb2O5', 'Ca1C1O3']\n",
      "[0.9999945163726807, 0.24563321471214294, 0.15841521322727203, 0.03565192595124245, 0.0027311681769788265, 0.0013726622564718127, 0.00041661225259304047, 0.00031850894447416067, 0.0002465824072714895, 0.00019391377281863242, 0.00018222736252937466, 0.00013200320245232433, 7.722515874775127e-05, 4.455262387637049e-05, 4.0948434616439044e-05, 3.659955473267473e-05, 3.1163610401563346e-05, 2.4177335944841616e-05, 2.2254331270232797e-05, 1.9854618585668504e-05, 1.9801371308858506e-05, 1.5722442185506225e-05, 1.5003613953012973e-05, 1.3670777661900502e-05, 1.35705895445426e-05, 1.1117292160633951e-05, 8.961129424278624e-06, 6.2652611632074695e-06, 2.739243655014434e-06, 2.000874019358889e-06]\n",
      "1\n",
      "Al0.02Zn0.93Fe0.05O1\n",
      "(['Fe2O3', 'Al2O3', 'Zn1O1'], 0.8394863656951695)\n",
      "['Al2O3', 'Fe2O3', 'Mg1O1', 'Zn1O1', 'Ni1O1', 'Al1H3O3', 'Mo1O3', 'Cu1O1', 'Mg1C1O3', 'B1H310O3', 'V2O3', 'Ga2O3', 'Co2C3O9', 'Si1O2', 'Sr1C1O3', 'Mn2O3', 'Li2C1O3', 'Bi2O3', 'Cd1C1O3', 'Ti1O2', 'B2O3', 'Mo7H24N6O24', 'P1H9N2O4', 'Ni2O3', 'Cd1O1', 'Mg1S1O4', 'Ge1O2', 'Cu2O1', 'La1Al0.1Fe0.9O3', 'Co3O4']\n",
      "[0.999968409538269, 0.9961332082748413, 0.9873242378234863, 0.8427717089653015, 0.004443335346877575, 0.0018600914627313614, 0.0003684214025270194, 0.0002854441700037569, 0.0002045367582468316, 0.00010523029777687043, 0.00010439963079988956, 8.574842649977654e-05, 6.785723235225305e-05, 3.395519161131233e-05, 2.7574422347242944e-05, 2.529240919102449e-05, 1.5264449757523835e-05, 1.4708526578033343e-05, 1.1022974831575993e-05, 9.345435501018073e-06, 5.1928609536844306e-06, 4.7304110921686515e-06, 4.193848781142151e-06, 3.6525807445286773e-06, 3.322305701658479e-06, 2.6360114588896977e-06, 1.8154986491936143e-06, 1.47113519233244e-06, 1.4438383004744537e-06, 1.3699442433789955e-06]\n",
      "1\n",
      "Al0.02Zn0.98O1\n",
      "(['Al2O3', 'Zn1O1'], 0.945163361869561)\n",
      "['Zn1O1', 'Al2O3', 'Mg1O1', 'Mo1O3', 'Cu1O1', 'P1H9N2O4', 'P2O5', 'B1H310O3', 'Al1H3O3', 'Mn1O2', 'H2W1O4', 'As2O5', 'V1H4N1O3', 'Sr1C1O3', 'Ba1S1O4', 'Ga2O3', 'V2O3', 'P1H6N1O4', 'In2O3', 'Ni1H6C4O4', 'Ba1C1O3', 'Y2O3', 'Cd1H6C4O4', 'Al1N1', 'Sr1Al2', 'Ni1O1', 'Li2C1O3', 'Ni2O3', 'Zn1H6C4O4', 'V2O5']\n",
      "[0.9999990463256836, 0.9451642632484436, 0.2464718073606491, 0.0009071286185644567, 0.00015642322250641882, 4.882787834503688e-05, 4.522554445429705e-05, 2.9041175366728567e-05, 1.3178774679545313e-05, 1.2792023881047498e-05, 7.718365850450937e-06, 6.435550403693924e-06, 5.882275672774995e-06, 5.848233740834985e-06, 3.2131381431099726e-06, 2.5760562039067736e-06, 2.5218043901986675e-06, 1.963757540579536e-06, 1.5031076827654033e-06, 1.359131715616968e-06, 1.2537338989204727e-06, 9.894773711494054e-07, 9.368335440740339e-07, 8.621614711046277e-07, 8.177679546861327e-07, 7.28766849533713e-07, 7.270632522704545e-07, 6.610561058550957e-07, 6.523521847157099e-07, 6.35029834938905e-07]\n",
      "1\n"
     ]
    }
   ],
   "source": [
    "import pickle\n",
    "\n",
    "with open('/home/thorben/code/mit/Retrieval-Retro/results/hard_naive/RR_hard_best_results_777_naive_eval.pickle', 'rb') as f:\n",
    "    eval_results = pickle.load(f)\n",
    "\n",
    "print(len(eval_results))\n",
    "\n",
    "for res in eval_results[:10]:\n",
    "    print(res['target'])\n",
    "    print(res['gt_precursors'])\n",
    "    print(res['candidates'])\n",
    "    print(res['sorted_probabilities'])\n",
    "    print(res['rank'])"
   ]
  }
 ],
 "metadata": {
  "kernelspec": {
   "display_name": "retrieval-retro",
   "language": "python",
   "name": "python3"
  },
  "language_info": {
   "codemirror_mode": {
    "name": "ipython",
    "version": 3
   },
   "file_extension": ".py",
   "mimetype": "text/x-python",
   "name": "python",
   "nbconvert_exporter": "python",
   "pygments_lexer": "ipython3",
   "version": "3.12.8"
  }
 },
 "nbformat": 4,
 "nbformat_minor": 2
}
