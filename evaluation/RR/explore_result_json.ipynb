{
 "cells": [
  {
   "cell_type": "code",
   "execution_count": 8,
   "metadata": {},
   "outputs": [
    {
     "name": "stdout",
     "output_type": "stream",
     "text": [
      "Processing difficulty hard seed 69\n",
      "Loaded test dataset with 2892 entries\n",
      "Found 2892 matches between results and test dataset\n",
      "Saved updated results to /home/thorben/code/mit/Retrieval-Retro/results/hard/RR_hard_best_results_69_updated_only_50.json\n",
      "Processing difficulty hard seed 777\n",
      "Loaded test dataset with 2892 entries\n",
      "Found 2892 matches between results and test dataset\n",
      "Saved updated results to /home/thorben/code/mit/Retrieval-Retro/results/hard/RR_hard_best_results_777_updated_only_50.json\n",
      "Processing difficulty hard seed 888\n",
      "Loaded test dataset with 2892 entries\n",
      "Found 2892 matches between results and test dataset\n",
      "Saved updated results to /home/thorben/code/mit/Retrieval-Retro/results/hard/RR_hard_best_results_888_updated_only_50.json\n",
      "Processing difficulty medium seed 69\n",
      "Loaded test dataset with 2892 entries\n",
      "Found 2892 matches between results and test dataset\n",
      "Saved updated results to /home/thorben/code/mit/Retrieval-Retro/results/medium/RR_medium_best_results_69_updated_only_50.json\n",
      "Processing difficulty medium seed 777\n",
      "Loaded test dataset with 2892 entries\n",
      "Found 2892 matches between results and test dataset\n",
      "Saved updated results to /home/thorben/code/mit/Retrieval-Retro/results/medium/RR_medium_best_results_777_updated_only_50.json\n",
      "Processing difficulty medium seed 888\n",
      "Loaded test dataset with 2892 entries\n",
      "Found 2892 matches between results and test dataset\n",
      "Saved updated results to /home/thorben/code/mit/Retrieval-Retro/results/medium/RR_medium_best_results_888_updated_only_50.json\n"
     ]
    }
   ],
   "source": [
    "import pandas as pd\n",
    "import json\n",
    "for difficulty in ['hard', 'medium']:\n",
    "    for seed in [69, 777, 888]:\n",
    "        print(f\"Processing difficulty {difficulty} seed {seed}\")\n",
    "\n",
    "        # Load the results JSON file\n",
    "        with open(f'/home/thorben/code/mit/Retrieval-Retro/results/{difficulty}/RR_{difficulty}_best_results_{seed}.json', 'r') as f:\n",
    "            results = json.load(f)\n",
    "\n",
    "        # Load test dataset\n",
    "        if difficulty == 'hard':\n",
    "            test_df = pd.read_csv(f'/home/thorben/code/mit/PrecursorRanker/data/dataset/dataset_w_candidates_w_val_unique_systems/test.csv')\n",
    "        elif difficulty == 'medium':\n",
    "            test_df = pd.read_csv(f'/home/thorben/code/mit/PrecursorRanker/data/dataset/dataset_w_candidates_w_val_new/test.csv')\n",
    "        elif difficulty == 'easy':\n",
    "            test_df = pd.read_csv(f'/home/thorben/code/mit/PrecursorRanker/data/dataset/dataset_unfiltered/test.csv')\n",
    "        print(f\"Loaded test dataset with {len(test_df)} entries\")\n",
    "\n",
    "        matches = 0\n",
    "        # Iterate through each result dictionary\n",
    "        for result_dic in results:\n",
    "            # Get the target formula (key of the dictionary)\n",
    "            target_formula = list(result_dic.keys())[0]\n",
    "            \n",
    "            # Find first matching row in test_df where target_formula matches\n",
    "            matching_row = test_df[test_df['target_formula'] == target_formula].head(1)\n",
    "            \n",
    "            if not matching_row.empty:\n",
    "                # Update the ground truth precursors in results with test dataset precursors\n",
    "                result_dic[target_formula]['gt_precursors'] = eval(matching_row.iloc[0]['precursor_formulas'])\n",
    "                result_dic[target_formula]['sorted_candidates'] = result_dic[target_formula]['sorted_candidates'][:50]\n",
    "                result_dic[target_formula]['sorted_probabilities'] = result_dic[target_formula]['sorted_probabilities'][:50]\n",
    "                matches += 1\n",
    "                \n",
    "                # Delete just the matched row by index to avoid removing other rows with same formula\n",
    "                test_df = test_df.drop(matching_row.index[0])\n",
    "            else:\n",
    "                print(f\"No matching row found for target formula: {target_formula}\")\n",
    "\n",
    "        print(f\"Found {matches} matches between results and test dataset\")\n",
    "\n",
    "        # Save updated results to a new JSON file\n",
    "        output_path = f'/home/thorben/code/mit/Retrieval-Retro/results/{difficulty}/RR_{difficulty}_best_results_{seed}_updated_only_50.json'\n",
    "        with open(output_path, 'w') as f:\n",
    "            json.dump(results, f, indent=4)\n",
    "        print(f\"Saved updated results to {output_path}\")"
   ]
  },
  {
   "cell_type": "code",
   "execution_count": 6,
   "metadata": {},
   "outputs": [
    {
     "name": "stdout",
     "output_type": "stream",
     "text": [
      "2892\n"
     ]
    }
   ],
   "source": [
    "difficulty = 'hard'\n",
    "seed = 777\n",
    "with open(f'/home/thorben/code/mit/Retrieval-Retro/results/{difficulty}/RR_{difficulty}_best_results_{seed}.json', 'r') as f:\n",
    "    results = json.load(f)\n",
    "\n",
    "print(len(results))"
   ]
  }
 ],
 "metadata": {
  "kernelspec": {
   "display_name": "retrieval-retro",
   "language": "python",
   "name": "python3"
  },
  "language_info": {
   "codemirror_mode": {
    "name": "ipython",
    "version": 3
   },
   "file_extension": ".py",
   "mimetype": "text/x-python",
   "name": "python",
   "nbconvert_exporter": "python",
   "pygments_lexer": "ipython3",
   "version": "3.12.8"
  }
 },
 "nbformat": 4,
 "nbformat_minor": 2
}
